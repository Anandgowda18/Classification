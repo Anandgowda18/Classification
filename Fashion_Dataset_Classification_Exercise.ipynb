{
  "nbformat": 4,
  "nbformat_minor": 0,
  "metadata": {
    "colab": {
      "name": "Copy of Fashion Dataset Classification Exercise.ipynb",
      "provenance": []
    },
    "kernelspec": {
      "name": "python3",
      "display_name": "Python 3"
    }
  },
  "cells": [
    {
      "cell_type": "markdown",
      "metadata": {
        "id": "it5tLAhw44AC"
      },
      "source": [
        "## Import Libraries"
      ]
    },
    {
      "cell_type": "code",
      "metadata": {
        "id": "3gR5Zuv82Yp1"
      },
      "source": [
        "import tensorflow as tf\n",
        "from tensorflow import keras\n",
        "import pandas as pd\n",
        "import matplotlib.pyplot as plt\n",
        "import numpy as np"
      ],
      "execution_count": null,
      "outputs": []
    },
    {
      "cell_type": "markdown",
      "metadata": {
        "id": "M4ipQHaNjeKA"
      },
      "source": [
        "## Get Data"
      ]
    },
    {
      "cell_type": "code",
      "metadata": {
        "id": "Rmi5pZ1Vg7PU",
        "outputId": "7ca26edf-6c56-4a42-804a-e539f59a1084",
        "colab": {
          "base_uri": "https://localhost:8080/",
          "height": 87
        }
      },
      "source": [
        "fashion_df = keras.datasets.fashion_mnist\n",
        "( X_train , y_train ), ( X_test , y_test ) = fashion_df.load_data ()\n",
        "print(X_train.shape)\n",
        "print(X_test.shape)\n",
        "print(y_train.shape)\n",
        "print(y_test.shape)"
      ],
      "execution_count": null,
      "outputs": [
        {
          "output_type": "stream",
          "text": [
            "(60000, 28, 28)\n",
            "(10000, 28, 28)\n",
            "(60000,)\n",
            "(10000,)\n"
          ],
          "name": "stdout"
        }
      ]
    },
    {
      "cell_type": "code",
      "metadata": {
        "id": "5aRAiCPuYmz_"
      },
      "source": [
        "X_train = pd.DataFrame(X_train.reshape(60000,784))\n",
        "X_test = pd.DataFrame(X_test.reshape(10000,784))\n",
        "y_train = pd.DataFrame(y_train)\n",
        "y_test = pd.DataFrame(y_test)\n"
      ],
      "execution_count": null,
      "outputs": []
    },
    {
      "cell_type": "code",
      "metadata": {
        "id": "A-BufDbcYxQZ",
        "outputId": "694684d6-d8b7-42d1-ae2f-5f2079ab6c37",
        "colab": {
          "base_uri": "https://localhost:8080/",
          "height": 373
        }
      },
      "source": [
        "print (X_train.shape, y_train.shape, X_test.shape, y_test.shape)\n",
        "y_test.head(10)"
      ],
      "execution_count": null,
      "outputs": [
        {
          "output_type": "stream",
          "text": [
            "(60000, 784) (60000, 1) (10000, 784) (10000, 1)\n"
          ],
          "name": "stdout"
        },
        {
          "output_type": "execute_result",
          "data": {
            "text/html": [
              "<div>\n",
              "<style scoped>\n",
              "    .dataframe tbody tr th:only-of-type {\n",
              "        vertical-align: middle;\n",
              "    }\n",
              "\n",
              "    .dataframe tbody tr th {\n",
              "        vertical-align: top;\n",
              "    }\n",
              "\n",
              "    .dataframe thead th {\n",
              "        text-align: right;\n",
              "    }\n",
              "</style>\n",
              "<table border=\"1\" class=\"dataframe\">\n",
              "  <thead>\n",
              "    <tr style=\"text-align: right;\">\n",
              "      <th></th>\n",
              "      <th>0</th>\n",
              "    </tr>\n",
              "  </thead>\n",
              "  <tbody>\n",
              "    <tr>\n",
              "      <th>0</th>\n",
              "      <td>9</td>\n",
              "    </tr>\n",
              "    <tr>\n",
              "      <th>1</th>\n",
              "      <td>2</td>\n",
              "    </tr>\n",
              "    <tr>\n",
              "      <th>2</th>\n",
              "      <td>1</td>\n",
              "    </tr>\n",
              "    <tr>\n",
              "      <th>3</th>\n",
              "      <td>1</td>\n",
              "    </tr>\n",
              "    <tr>\n",
              "      <th>4</th>\n",
              "      <td>6</td>\n",
              "    </tr>\n",
              "    <tr>\n",
              "      <th>5</th>\n",
              "      <td>1</td>\n",
              "    </tr>\n",
              "    <tr>\n",
              "      <th>6</th>\n",
              "      <td>4</td>\n",
              "    </tr>\n",
              "    <tr>\n",
              "      <th>7</th>\n",
              "      <td>6</td>\n",
              "    </tr>\n",
              "    <tr>\n",
              "      <th>8</th>\n",
              "      <td>5</td>\n",
              "    </tr>\n",
              "    <tr>\n",
              "      <th>9</th>\n",
              "      <td>7</td>\n",
              "    </tr>\n",
              "  </tbody>\n",
              "</table>\n",
              "</div>"
            ],
            "text/plain": [
              "   0\n",
              "0  9\n",
              "1  2\n",
              "2  1\n",
              "3  1\n",
              "4  6\n",
              "5  1\n",
              "6  4\n",
              "7  6\n",
              "8  5\n",
              "9  7"
            ]
          },
          "metadata": {
            "tags": []
          },
          "execution_count": 23
        }
      ]
    },
    {
      "cell_type": "markdown",
      "metadata": {
        "id": "JKS2zk7seMHn"
      },
      "source": [
        "##Assignment"
      ]
    },
    {
      "cell_type": "markdown",
      "metadata": {
        "id": "2dLKJKaHeQMK"
      },
      "source": [
        "Above dataset has images of different types of merchandise (structure is the same as digit recognition dataset). Numerical labels correspond to the following types of goods - \n",
        "1. T-shirt/top\n",
        "2. Trouser\n",
        "3. Pullover\n",
        "4. Dress\n",
        "5. Coat\n",
        "6. Sandal\n",
        "7. Shirt\n",
        "8. Sneaker\n",
        "9. Bag\n",
        "10. Ankle boot\n",
        "\n",
        "You are required to experiment with different classification models and select the best model for classification of images in the given dataset.\n",
        "\n",
        "Through cross valiation assess if the results are consistent.\n",
        "\n",
        "Perform hyperparameter tuning on the selected model(s).\n",
        "\n",
        "You may refer to the digit classification exercise for getting guiance but try performing the entire sequence on your owns. "
      ]
    },
    {
      "cell_type": "markdown",
      "metadata": {
        "id": "SXBPBAkjvs_X"
      },
      "source": [
        "Trying out SGD Classifier"
      ]
    },
    {
      "cell_type": "code",
      "metadata": {
        "id": "lqNCt60Yvv3C"
      },
      "source": [
        "from sklearn.preprocessing import StandardScaler\n",
        "sc = StandardScaler()\n",
        "X_train = sc.fit_transform(X_train)\n",
        "X_test = sc.transform(X_test)"
      ],
      "execution_count": null,
      "outputs": []
    },
    {
      "cell_type": "code",
      "metadata": {
        "id": "-6TLWkLaYhXd",
        "outputId": "71cb4d0a-8a8f-4952-88cf-1b2fc3d1dd53",
        "colab": {
          "base_uri": "https://localhost:8080/",
          "height": 211
        }
      },
      "source": [
        "from sklearn.linear_model import SGDClassifier\n",
        "from sklearn import metrics\n",
        "lm = SGDClassifier(random_state=42)\n",
        "lm.fit(X_train, y_train)"
      ],
      "execution_count": null,
      "outputs": [
        {
          "output_type": "stream",
          "text": [
            "/usr/local/lib/python3.6/dist-packages/sklearn/utils/validation.py:760: DataConversionWarning: A column-vector y was passed when a 1d array was expected. Please change the shape of y to (n_samples, ), for example using ravel().\n",
            "  y = column_or_1d(y, warn=True)\n",
            "/usr/local/lib/python3.6/dist-packages/sklearn/linear_model/_stochastic_gradient.py:557: ConvergenceWarning: Maximum number of iteration reached before convergence. Consider increasing max_iter to improve the fit.\n",
            "  ConvergenceWarning)\n"
          ],
          "name": "stderr"
        },
        {
          "output_type": "execute_result",
          "data": {
            "text/plain": [
              "SGDClassifier(alpha=0.0001, average=False, class_weight=None,\n",
              "              early_stopping=False, epsilon=0.1, eta0=0.0, fit_intercept=True,\n",
              "              l1_ratio=0.15, learning_rate='optimal', loss='hinge',\n",
              "              max_iter=1000, n_iter_no_change=5, n_jobs=None, penalty='l2',\n",
              "              power_t=0.5, random_state=42, shuffle=True, tol=0.001,\n",
              "              validation_fraction=0.1, verbose=0, warm_start=False)"
            ]
          },
          "metadata": {
            "tags": []
          },
          "execution_count": 7
        }
      ]
    },
    {
      "cell_type": "code",
      "metadata": {
        "id": "F0jhC7PveqDq",
        "outputId": "f9461d8f-771b-4030-e099-7722b65013f9",
        "colab": {
          "base_uri": "https://localhost:8080/",
          "height": 35
        }
      },
      "source": [
        "y_pred = lm.predict(X_test)\n",
        "print(y_pred)"
      ],
      "execution_count": null,
      "outputs": [
        {
          "output_type": "stream",
          "text": [
            "[9 2 1 ... 8 1 5]\n"
          ],
          "name": "stdout"
        }
      ]
    },
    {
      "cell_type": "code",
      "metadata": {
        "id": "A3PiZGNNtzWG",
        "outputId": "727d3f85-8f9a-4dae-ab02-5a0291fdb76d",
        "colab": {
          "base_uri": "https://localhost:8080/",
          "height": 225
        }
      },
      "source": [
        "from sklearn.metrics import confusion_matrix,accuracy_score\n",
        "cm = confusion_matrix(y_test,y_pred)\n",
        "cm = pd.DataFrame(cm)\n",
        "cm.style.background_gradient(cmap ='coolwarm')\n",
        "print(cm)\n",
        "accuracy_test = accuracy_score(y_test,y_pred)\n",
        "print(\"accuracy =\",accuracy_test)"
      ],
      "execution_count": null,
      "outputs": [
        {
          "output_type": "stream",
          "text": [
            "     0    1    2    3    4    5    6    7    8    9\n",
            "0  761    4   12   73    6    1  126    0   17    0\n",
            "1    1  944    5   35    5    0    9    0    1    0\n",
            "2    9    1  704   17  128    0  130    0   11    0\n",
            "3   31    9   13  870   28    0   46    0    3    0\n",
            "4    1    0  111   57  724    0  106    0    1    0\n",
            "5    1    0    0    0    0  926    2   34   10   27\n",
            "6  132    2  107   73   93    0  557    0   36    0\n",
            "7    0    0    0    0    0   48    0  917    2   33\n",
            "8    5    1    3   15    2    1   33    5  935    0\n",
            "9    0    0    0    1    0   15    2   36    1  945\n",
            "accuracy = 0.8283\n"
          ],
          "name": "stdout"
        }
      ]
    },
    {
      "cell_type": "code",
      "metadata": {
        "id": "AQDMSqrIgfyP",
        "outputId": "30edaa4e-0014-4dbb-9024-7d5bff4721cb",
        "colab": {
          "base_uri": "https://localhost:8080/",
          "height": 312
        }
      },
      "source": [
        "print(metrics.classification_report(y_test, y_pred))"
      ],
      "execution_count": null,
      "outputs": [
        {
          "output_type": "stream",
          "text": [
            "              precision    recall  f1-score   support\n",
            "\n",
            "           0       0.81      0.76      0.78      1000\n",
            "           1       0.98      0.94      0.96      1000\n",
            "           2       0.74      0.70      0.72      1000\n",
            "           3       0.76      0.87      0.81      1000\n",
            "           4       0.73      0.72      0.73      1000\n",
            "           5       0.93      0.93      0.93      1000\n",
            "           6       0.55      0.56      0.55      1000\n",
            "           7       0.92      0.92      0.92      1000\n",
            "           8       0.92      0.94      0.93      1000\n",
            "           9       0.94      0.94      0.94      1000\n",
            "\n",
            "    accuracy                           0.83     10000\n",
            "   macro avg       0.83      0.83      0.83     10000\n",
            "weighted avg       0.83      0.83      0.83     10000\n",
            "\n"
          ],
          "name": "stdout"
        }
      ]
    },
    {
      "cell_type": "code",
      "metadata": {
        "id": "Ehn6ywvIhAiS",
        "outputId": "2b2e20fc-11b5-4ab8-84fd-7b2973bde9a8",
        "colab": {
          "base_uri": "https://localhost:8080/",
          "height": 263
        }
      },
      "source": [
        "from sklearn.model_selection import cross_val_score\n",
        "cvs = cross_val_score(lm, X_train, y_train, cv = 3, scoring = 'accuracy')\n",
        "print (cvs)"
      ],
      "execution_count": null,
      "outputs": [
        {
          "output_type": "stream",
          "text": [
            "/usr/local/lib/python3.6/dist-packages/sklearn/utils/validation.py:760: DataConversionWarning: A column-vector y was passed when a 1d array was expected. Please change the shape of y to (n_samples, ), for example using ravel().\n",
            "  y = column_or_1d(y, warn=True)\n",
            "/usr/local/lib/python3.6/dist-packages/sklearn/linear_model/_stochastic_gradient.py:557: ConvergenceWarning: Maximum number of iteration reached before convergence. Consider increasing max_iter to improve the fit.\n",
            "  ConvergenceWarning)\n",
            "/usr/local/lib/python3.6/dist-packages/sklearn/utils/validation.py:760: DataConversionWarning: A column-vector y was passed when a 1d array was expected. Please change the shape of y to (n_samples, ), for example using ravel().\n",
            "  y = column_or_1d(y, warn=True)\n",
            "/usr/local/lib/python3.6/dist-packages/sklearn/linear_model/_stochastic_gradient.py:557: ConvergenceWarning: Maximum number of iteration reached before convergence. Consider increasing max_iter to improve the fit.\n",
            "  ConvergenceWarning)\n",
            "/usr/local/lib/python3.6/dist-packages/sklearn/utils/validation.py:760: DataConversionWarning: A column-vector y was passed when a 1d array was expected. Please change the shape of y to (n_samples, ), for example using ravel().\n",
            "  y = column_or_1d(y, warn=True)\n"
          ],
          "name": "stderr"
        },
        {
          "output_type": "stream",
          "text": [
            "[0.83035 0.83545 0.83725]\n"
          ],
          "name": "stdout"
        },
        {
          "output_type": "stream",
          "text": [
            "/usr/local/lib/python3.6/dist-packages/sklearn/linear_model/_stochastic_gradient.py:557: ConvergenceWarning: Maximum number of iteration reached before convergence. Consider increasing max_iter to improve the fit.\n",
            "  ConvergenceWarning)\n"
          ],
          "name": "stderr"
        }
      ]
    },
    {
      "cell_type": "markdown",
      "metadata": {
        "id": "c6vRHFnrDmrF"
      },
      "source": [
        "SVC Classifier"
      ]
    },
    {
      "cell_type": "code",
      "metadata": {
        "id": "SunPS76iDlsK",
        "outputId": "c7911bbe-d05c-4c1a-97f1-706e0ceaa2fb",
        "colab": {
          "base_uri": "https://localhost:8080/",
          "height": 765
        }
      },
      "source": [
        "from sklearn.svm import SVC\n",
        "from sklearn import metrics\n",
        "lm = SVC()\n",
        "lm.fit(X_train, y_train)\n",
        "predictions = lm.predict(X_test)\n",
        "print(predictions)\n",
        "con_matrix = pd.DataFrame(metrics.confusion_matrix(y_test, predictions))\n",
        "print(con_matrix)\n",
        "print('Classification metrics for SVC classifier')\n",
        "print()\n",
        "print('Score on Test Data ',' '*5, '%0.2f' %(lm.score(X_test, y_test)))\n",
        "print('RMSE               ',' '*5, '%0.2f' %(np.sqrt(metrics.mean_squared_error(y_test, predictions))))\n",
        "print('Mean Absolute Error',' '*5, '%0.2f' %(metrics.mean_absolute_error(y_test, predictions)))\n",
        "print()\n",
        "print(\"Classification report\")\n",
        "print()\n",
        "print(con_matrix.style.background_gradient(cmap='coolwarm'))\n",
        "print()\n",
        "print((metrics.classification_report(y_test, predictions)))\n",
        "print()"
      ],
      "execution_count": null,
      "outputs": [
        {
          "output_type": "stream",
          "text": [
            "/usr/local/lib/python3.6/dist-packages/sklearn/utils/validation.py:760: DataConversionWarning: A column-vector y was passed when a 1d array was expected. Please change the shape of y to (n_samples, ), for example using ravel().\n",
            "  y = column_or_1d(y, warn=True)\n"
          ],
          "name": "stderr"
        },
        {
          "output_type": "stream",
          "text": [
            "[9 2 1 ... 8 1 5]\n",
            "     0    1    2    3    4    5    6    7    8    9\n",
            "0  856    0    9   29    3    1   90    0   12    0\n",
            "1    4  961    3   25    3    0    4    0    0    0\n",
            "2   13    1  815   12   92    0   64    0    3    0\n",
            "3   28    3   12  893   31    0   29    0    4    0\n",
            "4    0    0   84   30  821    0   61    0    4    0\n",
            "5    0    0    0    1    0  958    0   26    2   13\n",
            "6  142    1   92   31   67    0  647    0   20    0\n",
            "7    0    0    0    0    0   20    0  959    0   21\n",
            "8    3    0    2    5    4    4    3    4  974    1\n",
            "9    0    0    0    0    0    8    0   37    3  952\n",
            "Classification metrics for SVC classifier\n",
            "\n",
            "Score on Test Data        0.88\n",
            "RMSE                      1.27\n",
            "Mean Absolute Error       15.39\n",
            "\n",
            "Classification report\n",
            "\n",
            "<pandas.io.formats.style.Styler object at 0x7f752ecdad30>\n",
            "\n",
            "              precision    recall  f1-score   support\n",
            "\n",
            "           0       0.82      0.86      0.84      1000\n",
            "           1       0.99      0.96      0.98      1000\n",
            "           2       0.80      0.81      0.81      1000\n",
            "           3       0.87      0.89      0.88      1000\n",
            "           4       0.80      0.82      0.81      1000\n",
            "           5       0.97      0.96      0.96      1000\n",
            "           6       0.72      0.65      0.68      1000\n",
            "           7       0.93      0.96      0.95      1000\n",
            "           8       0.95      0.97      0.96      1000\n",
            "           9       0.96      0.95      0.96      1000\n",
            "\n",
            "    accuracy                           0.88     10000\n",
            "   macro avg       0.88      0.88      0.88     10000\n",
            "weighted avg       0.88      0.88      0.88     10000\n",
            "\n",
            "\n"
          ],
          "name": "stdout"
        }
      ]
    }
  ]
}